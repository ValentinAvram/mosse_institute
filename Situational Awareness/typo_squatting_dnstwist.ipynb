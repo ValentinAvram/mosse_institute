{
 "cells": [
  {
   "cell_type": "code",
   "execution_count": null,
   "id": "94a0b7d7-2f5f-4601-9ae3-44b4e9af796d",
   "metadata": {},
   "outputs": [],
   "source": [
    "https://dnstwist.it/\n",
    "\n",
    "\"\"\"\n",
    "Same tool as https://github.com/elceef/dnstwist ,\n",
    "but without the need of isntalling it.\n",
    "\"\"\""
   ]
  },
  {
   "cell_type": "code",
   "execution_count": null,
   "id": "0ecf1f9c-db29-4877-8efb-049edacdb0f0",
   "metadata": {},
   "outputs": [],
   "source": [
    "Selected domain: \n",
    "siemens.com\n",
    "\n",
    "---\n",
    "Suspicious domains:\n",
    "siemenss.com \n",
    "siemenw.com \n",
    "simmens.com \n",
    "wwwsiemens.com \n",
    "siemensinnfo.com \n",
    "siemensweb.com \n",
    "siernens.com \n",
    "sìemens.com "
   ]
  },
  {
   "cell_type": "code",
   "execution_count": null,
   "id": "d5003ff4-9933-4241-96de-a95813245f89",
   "metadata": {},
   "outputs": [],
   "source": [
    "Selected domain:\n",
    "bosch.com\n",
    "\n",
    "---\n",
    "Suspicious domains:\n",
    "bösch.com\n",
    "boch.com\n",
    "bosclh.com\n",
    "ɓosch.com\n",
    "borch.com"
   ]
  }
 ],
 "metadata": {
  "kernelspec": {
   "display_name": "Python 3 (ipykernel)",
   "language": "python",
   "name": "python3"
  },
  "language_info": {
   "codemirror_mode": {
    "name": "ipython",
    "version": 3
   },
   "file_extension": ".py",
   "mimetype": "text/x-python",
   "name": "python",
   "nbconvert_exporter": "python",
   "pygments_lexer": "ipython3",
   "version": "3.12.3"
  }
 },
 "nbformat": 4,
 "nbformat_minor": 5
}
