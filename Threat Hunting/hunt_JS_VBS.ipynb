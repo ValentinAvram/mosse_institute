{
 "cells": [
  {
   "cell_type": "code",
   "execution_count": 1,
   "id": "6372fb29-2aa7-4f2b-8149-19b82229fb6a",
   "metadata": {},
   "outputs": [
    {
     "name": "stdout",
     "output_type": "stream",
     "text": [
      "Student ID: 82R4k2JOBFYpjzrPT6xpDrASy2C3\n"
     ]
    }
   ],
   "source": [
    "import pyarrow.parquet as pq\n",
    "import pandas as pd\n",
    "from IPython.display import display\n",
    "\n",
    "#dataset_1 = pq.ParquetDataset('dataset-1/w32processes')\n",
    "#dataset_2 = pq.ParquetDataset('dataset-2/w32processes')\n",
    "#dataset_3 = pq.ParquetDataset('dataset-3/w32processes')\n",
    "dataset_4 = pq.ParquetDataset('dataset-4/w32processes')\n",
    "\n",
    "#table_1 = dataset_1.read()\n",
    "#table_2 = dataset_2.read()\n",
    "#table_3 = dataset_3.read()\n",
    "table_4 = dataset_4.read()\n",
    "\n",
    "#df_1 = table_1.to_pandas()\n",
    "#df_2 = table_2.to_pandas()\n",
    "#df_3 = table_3.to_pandas()\n",
    "df_4 = table_4.to_pandas()\n",
    "\n",
    "#df_1.to_csv('test_1.csv')\n",
    "#df_2.to_csv('test_2.csv')\n",
    "#df_3.to_csv('test_3.csv')\n",
    "#df_4.to_csv('test_4.csv')\n",
    "\n",
    "pd.set_option('display.max_colwidth', None)\n",
    "\n",
    "print('Student ID: 82R4k2JOBFYpjzrPT6xpDrASy2C3')"
   ]
  },
  {
   "cell_type": "code",
   "execution_count": 2,
   "id": "994879b4-8a48-4def-9315-de1ede20fe1c",
   "metadata": {},
   "outputs": [
    {
     "data": {
      "text/html": [
       "<div>\n",
       "<style scoped>\n",
       "    .dataframe tbody tr th:only-of-type {\n",
       "        vertical-align: middle;\n",
       "    }\n",
       "\n",
       "    .dataframe tbody tr th {\n",
       "        vertical-align: top;\n",
       "    }\n",
       "\n",
       "    .dataframe thead th {\n",
       "        text-align: right;\n",
       "    }\n",
       "</style>\n",
       "<table border=\"1\" class=\"dataframe\">\n",
       "  <thead>\n",
       "    <tr style=\"text-align: right;\">\n",
       "      <th></th>\n",
       "      <th>hostname</th>\n",
       "      <th>name</th>\n",
       "      <th>arguments</th>\n",
       "      <th>username</th>\n",
       "      <th>path</th>\n",
       "      <th>pid</th>\n",
       "    </tr>\n",
       "  </thead>\n",
       "  <tbody>\n",
       "    <tr>\n",
       "      <th>0</th>\n",
       "      <td>EB0005YAT</td>\n",
       "      <td>svchost.exe</td>\n",
       "      <td>c:\\windows\\system32\\svchost.exe -k networkservice -p -s Dnscache</td>\n",
       "      <td>NT AUTHORITY\\SYSTEM</td>\n",
       "      <td>c:\\windows\\system32</td>\n",
       "      <td>316</td>\n",
       "    </tr>\n",
       "    <tr>\n",
       "      <th>1</th>\n",
       "      <td>EB0005YAT</td>\n",
       "      <td>svchost.exe</td>\n",
       "      <td>c:\\windows\\system32\\svchost.exe -k localserviceandnoimpersonation -p -s SSDPSRV</td>\n",
       "      <td>NT AUTHORITY\\SYSTEM</td>\n",
       "      <td>c:\\windows\\system32</td>\n",
       "      <td>1088</td>\n",
       "    </tr>\n",
       "    <tr>\n",
       "      <th>2</th>\n",
       "      <td>EB0005YAT</td>\n",
       "      <td>svchost.exe</td>\n",
       "      <td>c:\\windows\\system32\\svchost.exe -k netsvcs -p -s ProfSvc</td>\n",
       "      <td>NT AUTHORITY\\SYSTEM</td>\n",
       "      <td>c:\\windows\\system32</td>\n",
       "      <td>808</td>\n",
       "    </tr>\n",
       "    <tr>\n",
       "      <th>3</th>\n",
       "      <td>EB0005YAT</td>\n",
       "      <td>LockApp.exe</td>\n",
       "      <td>\"C:\\Windows\\SystemApps\\Microsoft.LockApp_cw5n1h2txyewy\\LockApp.exe\" -ServerName:WindowsDefaultLockScreen.AppX7y4nbzq37zn4ks9k7amqjywdat7d3j2z.mca</td>\n",
       "      <td>NT AUTHORITY\\SYSTEM</td>\n",
       "      <td>C:\\Windows\\SystemApps\\Microsoft.LockApp_cw5n1h2txyewy</td>\n",
       "      <td>984</td>\n",
       "    </tr>\n",
       "    <tr>\n",
       "      <th>4</th>\n",
       "      <td>EB0005YAT</td>\n",
       "      <td>opera.exe</td>\n",
       "      <td>\"C:\\Users\\jorda.evans\\AppData\\Local\\Programs\\Opera\\56.0.3051.52\\opera.exe\" --type=renderer --field-trial-handle=1640 14609910000652164441 9538679763400238678 131072 --service-pipe-token=6930244878569528683 --lang=en-GB --extension-process --enable-offline-auto-reload --enable-offline-auto-reload-visible-only --with-feature:installer-experiment-test=off --with-feature:installer-use-minimal-package=off --with-feature:installer-simplified-ui=on --ab_tests=DNA-70598-test:DNA-70598 --device-scale-factor=1.5 --num-raster-threads=2 --enable-main-frame-before-activation --service-request-channel-token=6930244878569528683 --renderer-client-id=3 --mojo-platform-channel-handle=2904 /prefetch:1</td>\n",
       "      <td>jorda.evans</td>\n",
       "      <td>C:\\Users\\jorda.evans\\AppData\\Local\\Programs\\Opera\\56.0.3051.52</td>\n",
       "      <td>1079</td>\n",
       "    </tr>\n",
       "    <tr>\n",
       "      <th>...</th>\n",
       "      <td>...</td>\n",
       "      <td>...</td>\n",
       "      <td>...</td>\n",
       "      <td>...</td>\n",
       "      <td>...</td>\n",
       "      <td>...</td>\n",
       "    </tr>\n",
       "    <tr>\n",
       "      <th>75</th>\n",
       "      <td>WW0006YQW</td>\n",
       "      <td>sppsvc.exe</td>\n",
       "      <td>C:\\Windows\\system32\\sppsvc.exe</td>\n",
       "      <td>NT AUTHORITY\\SYSTEM</td>\n",
       "      <td>C:\\Windows\\system32</td>\n",
       "      <td>6116</td>\n",
       "    </tr>\n",
       "    <tr>\n",
       "      <th>76</th>\n",
       "      <td>WW0006YQW</td>\n",
       "      <td>svchost.exe</td>\n",
       "      <td>C:\\Windows\\system32\\svchost.exe -k RPCSS</td>\n",
       "      <td>NT AUTHORITY\\SYSTEM</td>\n",
       "      <td>C:\\Windows\\system32</td>\n",
       "      <td>3852</td>\n",
       "    </tr>\n",
       "    <tr>\n",
       "      <th>80</th>\n",
       "      <td>WW0006YQW</td>\n",
       "      <td>PSANHost.exe</td>\n",
       "      <td>\"C:\\Program Files (x86)\\Panda Security\\Panda Security Protection\\PSANHost.exe\"</td>\n",
       "      <td>evadiaz</td>\n",
       "      <td>C:\\Program Files (x86)\\Panda Security\\Panda Security Protection</td>\n",
       "      <td>2564</td>\n",
       "    </tr>\n",
       "    <tr>\n",
       "      <th>89</th>\n",
       "      <td>WW0006YQW</td>\n",
       "      <td>reg.exe</td>\n",
       "      <td>C:\\Windows\\System32\\reg.exe add \"HKEY_CURRENT_USER\\Control Panel\\Desktop\" /v ScreenSaverIsSecure /t REG_SZ /d 0 /f</td>\n",
       "      <td>jamesrussel14</td>\n",
       "      <td>C:\\Windows\\System32\\reg.exe</td>\n",
       "      <td>1184</td>\n",
       "    </tr>\n",
       "    <tr>\n",
       "      <th>94</th>\n",
       "      <td>WW0006YQW</td>\n",
       "      <td>reg.exe</td>\n",
       "      <td>C:\\Windows\\System32\\reg.exe add \"HKEY_CURRENT_USER\\Control Panel\\Desktop\" /v ScreenSaverTimeout /t REG_SZ /d 60 /f</td>\n",
       "      <td>jamesrussel14</td>\n",
       "      <td>C:\\Windows\\System32\\reg.exe</td>\n",
       "      <td>5312</td>\n",
       "    </tr>\n",
       "  </tbody>\n",
       "</table>\n",
       "<p>6425 rows × 6 columns</p>\n",
       "</div>"
      ],
      "text/plain": [
       "     hostname          name  \\\n",
       "0   EB0005YAT   svchost.exe   \n",
       "1   EB0005YAT   svchost.exe   \n",
       "2   EB0005YAT   svchost.exe   \n",
       "3   EB0005YAT   LockApp.exe   \n",
       "4   EB0005YAT     opera.exe   \n",
       "..        ...           ...   \n",
       "75  WW0006YQW    sppsvc.exe   \n",
       "76  WW0006YQW   svchost.exe   \n",
       "80  WW0006YQW  PSANHost.exe   \n",
       "89  WW0006YQW       reg.exe   \n",
       "94  WW0006YQW       reg.exe   \n",
       "\n",
       "                                                                                                                                                                                                                                                                                                                                                                                                                                                                                                                                                                                                                                                                                                              arguments  \\\n",
       "0                                                                                                                                                                                                                                                                                                                                                                                                                                                                                                                                                                                                                                                      c:\\windows\\system32\\svchost.exe -k networkservice -p -s Dnscache   \n",
       "1                                                                                                                                                                                                                                                                                                                                                                                                                                                                                                                                                                                                                                       c:\\windows\\system32\\svchost.exe -k localserviceandnoimpersonation -p -s SSDPSRV   \n",
       "2                                                                                                                                                                                                                                                                                                                                                                                                                                                                                                                                                                                                                                                              c:\\windows\\system32\\svchost.exe -k netsvcs -p -s ProfSvc   \n",
       "3                                                                                                                                                                                                                                                                                                                                                                                                                                                                                                                                                                     \"C:\\Windows\\SystemApps\\Microsoft.LockApp_cw5n1h2txyewy\\LockApp.exe\" -ServerName:WindowsDefaultLockScreen.AppX7y4nbzq37zn4ks9k7amqjywdat7d3j2z.mca   \n",
       "4   \"C:\\Users\\jorda.evans\\AppData\\Local\\Programs\\Opera\\56.0.3051.52\\opera.exe\" --type=renderer --field-trial-handle=1640 14609910000652164441 9538679763400238678 131072 --service-pipe-token=6930244878569528683 --lang=en-GB --extension-process --enable-offline-auto-reload --enable-offline-auto-reload-visible-only --with-feature:installer-experiment-test=off --with-feature:installer-use-minimal-package=off --with-feature:installer-simplified-ui=on --ab_tests=DNA-70598-test:DNA-70598 --device-scale-factor=1.5 --num-raster-threads=2 --enable-main-frame-before-activation --service-request-channel-token=6930244878569528683 --renderer-client-id=3 --mojo-platform-channel-handle=2904 /prefetch:1   \n",
       "..                                                                                                                                                                                                                                                                                                                                                                                                                                                                                                                                                                                                                                                                                                                  ...   \n",
       "75                                                                                                                                                                                                                                                                                                                                                                                                                                                                                                                                                                                                                                                                                       C:\\Windows\\system32\\sppsvc.exe   \n",
       "76                                                                                                                                                                                                                                                                                                                                                                                                                                                                                                                                                                                                                                                                             C:\\Windows\\system32\\svchost.exe -k RPCSS   \n",
       "80                                                                                                                                                                                                                                                                                                                                                                                                                                                                                                                                                                                                                                       \"C:\\Program Files (x86)\\Panda Security\\Panda Security Protection\\PSANHost.exe\"   \n",
       "89                                                                                                                                                                                                                                                                                                                                                                                                                                                                                                                                                                                                   C:\\Windows\\System32\\reg.exe add \"HKEY_CURRENT_USER\\Control Panel\\Desktop\" /v ScreenSaverIsSecure /t REG_SZ /d 0 /f   \n",
       "94                                                                                                                                                                                                                                                                                                                                                                                                                                                                                                                                                                                                   C:\\Windows\\System32\\reg.exe add \"HKEY_CURRENT_USER\\Control Panel\\Desktop\" /v ScreenSaverTimeout /t REG_SZ /d 60 /f   \n",
       "\n",
       "               username  \\\n",
       "0   NT AUTHORITY\\SYSTEM   \n",
       "1   NT AUTHORITY\\SYSTEM   \n",
       "2   NT AUTHORITY\\SYSTEM   \n",
       "3   NT AUTHORITY\\SYSTEM   \n",
       "4           jorda.evans   \n",
       "..                  ...   \n",
       "75  NT AUTHORITY\\SYSTEM   \n",
       "76  NT AUTHORITY\\SYSTEM   \n",
       "80              evadiaz   \n",
       "89        jamesrussel14   \n",
       "94        jamesrussel14   \n",
       "\n",
       "                                                               path   pid  \n",
       "0                                               c:\\windows\\system32   316  \n",
       "1                                               c:\\windows\\system32  1088  \n",
       "2                                               c:\\windows\\system32   808  \n",
       "3             C:\\Windows\\SystemApps\\Microsoft.LockApp_cw5n1h2txyewy   984  \n",
       "4    C:\\Users\\jorda.evans\\AppData\\Local\\Programs\\Opera\\56.0.3051.52  1079  \n",
       "..                                                              ...   ...  \n",
       "75                                              C:\\Windows\\system32  6116  \n",
       "76                                              C:\\Windows\\system32  3852  \n",
       "80  C:\\Program Files (x86)\\Panda Security\\Panda Security Protection  2564  \n",
       "89                                      C:\\Windows\\System32\\reg.exe  1184  \n",
       "94                                      C:\\Windows\\System32\\reg.exe  5312  \n",
       "\n",
       "[6425 rows x 6 columns]"
      ]
     },
     "metadata": {},
     "output_type": "display_data"
    }
   ],
   "source": [
    "display(df_4)"
   ]
  },
  {
   "cell_type": "code",
   "execution_count": 3,
   "id": "141146c9-4a57-44dc-ac5a-f57045f00667",
   "metadata": {},
   "outputs": [
    {
     "name": "stdout",
     "output_type": "stream",
     "text": [
      "Nº of mshta processes: 0\n",
      "There are no mshta processes\n"
     ]
    }
   ],
   "source": [
    "#MSHTA\n",
    "mshta_proc = df_4[df_4['arguments'].str.contains('mshta')]\n",
    "print('Nº of mshta processes: '+ str(len(mshta_proc)))\n",
    "print('There are no mshta processes')"
   ]
  },
  {
   "cell_type": "code",
   "execution_count": 4,
   "id": "97de79f4-544a-4578-a359-b550479bada7",
   "metadata": {},
   "outputs": [
    {
     "name": "stdout",
     "output_type": "stream",
     "text": [
      "Nº of cscript.exe processes: 13\n"
     ]
    },
    {
     "data": {
      "text/html": [
       "<div>\n",
       "<style scoped>\n",
       "    .dataframe tbody tr th:only-of-type {\n",
       "        vertical-align: middle;\n",
       "    }\n",
       "\n",
       "    .dataframe tbody tr th {\n",
       "        vertical-align: top;\n",
       "    }\n",
       "\n",
       "    .dataframe thead th {\n",
       "        text-align: right;\n",
       "    }\n",
       "</style>\n",
       "<table border=\"1\" class=\"dataframe\">\n",
       "  <thead>\n",
       "    <tr style=\"text-align: right;\">\n",
       "      <th></th>\n",
       "      <th>name</th>\n",
       "      <th>pid</th>\n",
       "      <th>arguments</th>\n",
       "    </tr>\n",
       "  </thead>\n",
       "  <tbody>\n",
       "    <tr>\n",
       "      <th>2</th>\n",
       "      <td>cscript.exe</td>\n",
       "      <td>92</td>\n",
       "      <td>C:\\Windows\\WinSxS\\wow64_microsoft-windows-scripting_31bf3856ad364e35_10.0.19041.1237_none_c77fb947e9eed73b\\cscript.exe //E:jscript c:\\Program Files\\7-Zip\\updater.js</td>\n",
       "    </tr>\n",
       "    <tr>\n",
       "      <th>57</th>\n",
       "      <td>cscript.exe</td>\n",
       "      <td>356</td>\n",
       "      <td>C:\\Windows\\WinSxS\\wow64_microsoft-windows-scripting_31bf3856ad364e35_10.0.19041.1237_none_c77fb947e9eed73b\\cscript.exe //E:jscript c:\\Program Files\\7-Zip\\updater.js</td>\n",
       "    </tr>\n",
       "    <tr>\n",
       "      <th>18</th>\n",
       "      <td>cscript.exe</td>\n",
       "      <td>3680</td>\n",
       "      <td>C:\\Windows\\WinSxS\\wow64_microsoft-windows-scripting_31bf3856ad364e35_10.0.19041.1237_none_c77fb947e9eed73b\\cscript.exe //E:jscript c:\\Program Files\\7-Zip\\updater.js</td>\n",
       "    </tr>\n",
       "    <tr>\n",
       "      <th>63</th>\n",
       "      <td>cscript.exe</td>\n",
       "      <td>2360</td>\n",
       "      <td>C:\\Windows\\WinSxS\\wow64_microsoft-windows-scripting_31bf3856ad364e35_10.0.19041.1237_none_c77fb947e9eed73b\\cscript.exe //E:jscript c:\\Program Files\\7-Zip\\updater.js</td>\n",
       "    </tr>\n",
       "    <tr>\n",
       "      <th>83</th>\n",
       "      <td>cscript.exe</td>\n",
       "      <td>3408</td>\n",
       "      <td>C:\\Windows\\WinSxS\\wow64_microsoft-windows-scripting_31bf3856ad364e35_10.0.19041.1237_none_c77fb947e9eed73b\\cscript.exe //E:jscript c:\\Program Files\\7-Zip\\updater.js</td>\n",
       "    </tr>\n",
       "    <tr>\n",
       "      <th>35</th>\n",
       "      <td>cscript.exe</td>\n",
       "      <td>5704</td>\n",
       "      <td>C:\\Windows\\WinSxS\\wow64_microsoft-windows-scripting_31bf3856ad364e35_10.0.19041.1237_none_c77fb947e9eed73b\\cscript.exe //E:jscript c:\\Program Files\\7-Zip\\updater.js</td>\n",
       "    </tr>\n",
       "    <tr>\n",
       "      <th>20</th>\n",
       "      <td>cscript.exe</td>\n",
       "      <td>3600</td>\n",
       "      <td>C:\\Windows\\WinSxS\\wow64_microsoft-windows-scripting_31bf3856ad364e35_10.0.19041.1237_none_c77fb947e9eed73b\\cscript.exe //E:jscript c:\\Program Files\\7-Zip\\updater.js</td>\n",
       "    </tr>\n",
       "    <tr>\n",
       "      <th>28</th>\n",
       "      <td>cscript.exe</td>\n",
       "      <td>6476</td>\n",
       "      <td>C:\\Windows\\WinSxS\\wow64_microsoft-windows-scripting_31bf3856ad364e35_10.0.19041.1237_none_c77fb947e9eed73b\\cscript.exe //E:jscript c:\\Program Files\\7-Zip\\updater.js</td>\n",
       "    </tr>\n",
       "    <tr>\n",
       "      <th>96</th>\n",
       "      <td>cscript.exe</td>\n",
       "      <td>3116</td>\n",
       "      <td>C:\\Windows\\WinSxS\\wow64_microsoft-windows-scripting_31bf3856ad364e35_10.0.19041.1237_none_c77fb947e9eed73b\\cscript.exe //E:jscript c:\\Program Files\\7-Zip\\updater.js</td>\n",
       "    </tr>\n",
       "    <tr>\n",
       "      <th>34</th>\n",
       "      <td>cscript.exe</td>\n",
       "      <td>3880</td>\n",
       "      <td>C:\\Windows\\WinSxS\\wow64_microsoft-windows-scripting_31bf3856ad364e35_10.0.19041.1237_none_c77fb947e9eed73b\\cscript.exe //E:jscript c:\\Program Files\\7-Zip\\updater.js</td>\n",
       "    </tr>\n",
       "    <tr>\n",
       "      <th>44</th>\n",
       "      <td>cscript.exe</td>\n",
       "      <td>1484</td>\n",
       "      <td>C:\\Windows\\WinSxS\\wow64_microsoft-windows-scripting_31bf3856ad364e35_10.0.19041.1237_none_c77fb947e9eed73b\\cscript.exe //E:jscript c:\\Program Files\\7-Zip\\updater.js</td>\n",
       "    </tr>\n",
       "    <tr>\n",
       "      <th>78</th>\n",
       "      <td>cscript.exe</td>\n",
       "      <td>4368</td>\n",
       "      <td>C:\\Windows\\WinSxS\\wow64_microsoft-windows-scripting_31bf3856ad364e35_10.0.19041.1237_none_c77fb947e9eed73b\\cscript.exe //E:jscript c:\\Program Files\\7-Zip\\updater.js</td>\n",
       "    </tr>\n",
       "    <tr>\n",
       "      <th>27</th>\n",
       "      <td>cscript.exe</td>\n",
       "      <td>4004</td>\n",
       "      <td>C:\\Windows\\WinSxS\\wow64_microsoft-windows-scripting_31bf3856ad364e35_10.0.19041.1237_none_c77fb947e9eed73b\\cscript.exe //E:jscript c:\\Program Files\\7-Zip\\updater.js</td>\n",
       "    </tr>\n",
       "  </tbody>\n",
       "</table>\n",
       "</div>"
      ],
      "text/plain": [
       "           name   pid  \\\n",
       "2   cscript.exe    92   \n",
       "57  cscript.exe   356   \n",
       "18  cscript.exe  3680   \n",
       "63  cscript.exe  2360   \n",
       "83  cscript.exe  3408   \n",
       "35  cscript.exe  5704   \n",
       "20  cscript.exe  3600   \n",
       "28  cscript.exe  6476   \n",
       "96  cscript.exe  3116   \n",
       "34  cscript.exe  3880   \n",
       "44  cscript.exe  1484   \n",
       "78  cscript.exe  4368   \n",
       "27  cscript.exe  4004   \n",
       "\n",
       "                                                                                                                                                               arguments  \n",
       "2   C:\\Windows\\WinSxS\\wow64_microsoft-windows-scripting_31bf3856ad364e35_10.0.19041.1237_none_c77fb947e9eed73b\\cscript.exe //E:jscript c:\\Program Files\\7-Zip\\updater.js  \n",
       "57  C:\\Windows\\WinSxS\\wow64_microsoft-windows-scripting_31bf3856ad364e35_10.0.19041.1237_none_c77fb947e9eed73b\\cscript.exe //E:jscript c:\\Program Files\\7-Zip\\updater.js  \n",
       "18  C:\\Windows\\WinSxS\\wow64_microsoft-windows-scripting_31bf3856ad364e35_10.0.19041.1237_none_c77fb947e9eed73b\\cscript.exe //E:jscript c:\\Program Files\\7-Zip\\updater.js  \n",
       "63  C:\\Windows\\WinSxS\\wow64_microsoft-windows-scripting_31bf3856ad364e35_10.0.19041.1237_none_c77fb947e9eed73b\\cscript.exe //E:jscript c:\\Program Files\\7-Zip\\updater.js  \n",
       "83  C:\\Windows\\WinSxS\\wow64_microsoft-windows-scripting_31bf3856ad364e35_10.0.19041.1237_none_c77fb947e9eed73b\\cscript.exe //E:jscript c:\\Program Files\\7-Zip\\updater.js  \n",
       "35  C:\\Windows\\WinSxS\\wow64_microsoft-windows-scripting_31bf3856ad364e35_10.0.19041.1237_none_c77fb947e9eed73b\\cscript.exe //E:jscript c:\\Program Files\\7-Zip\\updater.js  \n",
       "20  C:\\Windows\\WinSxS\\wow64_microsoft-windows-scripting_31bf3856ad364e35_10.0.19041.1237_none_c77fb947e9eed73b\\cscript.exe //E:jscript c:\\Program Files\\7-Zip\\updater.js  \n",
       "28  C:\\Windows\\WinSxS\\wow64_microsoft-windows-scripting_31bf3856ad364e35_10.0.19041.1237_none_c77fb947e9eed73b\\cscript.exe //E:jscript c:\\Program Files\\7-Zip\\updater.js  \n",
       "96  C:\\Windows\\WinSxS\\wow64_microsoft-windows-scripting_31bf3856ad364e35_10.0.19041.1237_none_c77fb947e9eed73b\\cscript.exe //E:jscript c:\\Program Files\\7-Zip\\updater.js  \n",
       "34  C:\\Windows\\WinSxS\\wow64_microsoft-windows-scripting_31bf3856ad364e35_10.0.19041.1237_none_c77fb947e9eed73b\\cscript.exe //E:jscript c:\\Program Files\\7-Zip\\updater.js  \n",
       "44  C:\\Windows\\WinSxS\\wow64_microsoft-windows-scripting_31bf3856ad364e35_10.0.19041.1237_none_c77fb947e9eed73b\\cscript.exe //E:jscript c:\\Program Files\\7-Zip\\updater.js  \n",
       "78  C:\\Windows\\WinSxS\\wow64_microsoft-windows-scripting_31bf3856ad364e35_10.0.19041.1237_none_c77fb947e9eed73b\\cscript.exe //E:jscript c:\\Program Files\\7-Zip\\updater.js  \n",
       "27  C:\\Windows\\WinSxS\\wow64_microsoft-windows-scripting_31bf3856ad364e35_10.0.19041.1237_none_c77fb947e9eed73b\\cscript.exe //E:jscript c:\\Program Files\\7-Zip\\updater.js  "
      ]
     },
     "metadata": {},
     "output_type": "display_data"
    },
    {
     "name": "stdout",
     "output_type": "stream",
     "text": [
      "In this case, the behaviour matches False Positive Cases\n"
     ]
    }
   ],
   "source": [
    "#CSCRIPT\n",
    "cscript_proc = df_4[df_4['arguments'].str.contains('cscript')]\n",
    "print('Nº of cscript.exe processes: '+ str(len(cscript_proc)))\n",
    "\n",
    "display(cscript_proc[['name','pid','arguments']])\n",
    "\n",
    "# https://research.splunk.com/endpoint/1f35e1da-267b-11ec-90a9-acde48001122/\n",
    "print('In this case, the behaviour matches False Positive Cases')"
   ]
  },
  {
   "cell_type": "code",
   "execution_count": 5,
   "id": "8b87110f-c40e-46c3-9d64-f11484dea1dd",
   "metadata": {},
   "outputs": [
    {
     "name": "stdout",
     "output_type": "stream",
     "text": [
      "Nº of wscript processes: 0\n",
      "There are no wscript processes\n"
     ]
    }
   ],
   "source": [
    "#WSCRIPT\n",
    "wscript_proc = df_4[df_4['arguments'].str.contains('wscript')]\n",
    "print('Nº of wscript processes: '+ str(len(wscript_proc)))\n",
    "print('There are no wscript processes')"
   ]
  },
  {
   "cell_type": "code",
   "execution_count": 6,
   "id": "5a01e5dd-bc21-44a4-b89f-bef905d4eadf",
   "metadata": {},
   "outputs": [
    {
     "name": "stdout",
     "output_type": "stream",
     "text": [
      "Nº of regsrv processes: 0\n"
     ]
    }
   ],
   "source": [
    "#REGSVR32\n",
    "regsrv_proc = df_4[df_4['arguments'].str.contains('regsrv')]\n",
    "print('Nº of regsrv processes: '+ str(len(regsrv_proc)))"
   ]
  },
  {
   "cell_type": "code",
   "execution_count": 7,
   "id": "f9cc962a-6df4-421d-8baa-2cfc37ddea6d",
   "metadata": {},
   "outputs": [
    {
     "name": "stdout",
     "output_type": "stream",
     "text": [
      "Nº of JavaScritp processes: 34\n",
      "Nº of suspicious JavaScritp processes: 0\n",
      "The only JS related processes are \n"
     ]
    }
   ],
   "source": [
    "#JavaScript Scripts\n",
    "js_proc = df_4[df_4['arguments'].str.contains('.js')]\n",
    "print('Nº of JavaScritp processes: '+ str(len(js_proc)))\n",
    "\n",
    "js_proc = df_4[df_4['arguments'].str.contains('.js') & ((df_4['name'] != 'slack.exe') & (df_4['name'] != 'cscript.exe'))]\n",
    "print('Nº of suspicious JavaScritp processes: '+ str(len(js_proc)))\n",
    "print('The only JS related processes are ')"
   ]
  },
  {
   "cell_type": "code",
   "execution_count": 8,
   "id": "f409e169-2caf-4c0e-8979-a7f9cea078e8",
   "metadata": {},
   "outputs": [
    {
     "name": "stdout",
     "output_type": "stream",
     "text": [
      "Nº of vbs processes: 0\n"
     ]
    }
   ],
   "source": [
    "#VBScript Scripts\n",
    "vbs_proc = df_4[df_4['arguments'].str.contains('vb')]\n",
    "print('Nº of vbs processes: '+ str(len(vbs_proc)))"
   ]
  },
  {
   "cell_type": "code",
   "execution_count": 9,
   "id": "cf25574a-abb1-457e-ac4b-ae4a3d987153",
   "metadata": {},
   "outputs": [
    {
     "name": "stdout",
     "output_type": "stream",
     "text": [
      "The only JS / VBS scripts are legitimate, slack process or 7zip updates.\n"
     ]
    }
   ],
   "source": [
    "print('The only JS / VBS scripts are legitimate, slack process or 7zip updates.')"
   ]
  }
 ],
 "metadata": {
  "kernelspec": {
   "display_name": "Python 3 (ipykernel)",
   "language": "python",
   "name": "python3"
  },
  "language_info": {
   "codemirror_mode": {
    "name": "ipython",
    "version": 3
   },
   "file_extension": ".py",
   "mimetype": "text/x-python",
   "name": "python",
   "nbconvert_exporter": "python",
   "pygments_lexer": "ipython3",
   "version": "3.13.2"
  }
 },
 "nbformat": 4,
 "nbformat_minor": 5
}
