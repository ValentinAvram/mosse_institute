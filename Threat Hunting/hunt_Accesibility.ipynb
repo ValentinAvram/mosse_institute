{
 "cells": [
  {
   "cell_type": "code",
   "execution_count": 5,
   "id": "6372fb29-2aa7-4f2b-8149-19b82229fb6a",
   "metadata": {},
   "outputs": [
    {
     "name": "stdout",
     "output_type": "stream",
     "text": [
      "Student ID: 82R4k2JOBFYpjzrPT6xpDrASy2C3\n"
     ]
    }
   ],
   "source": [
    "import pyarrow.parquet as pq\n",
    "import pandas as pd\n",
    "import re\n",
    "from IPython.display import display\n",
    "\n",
    "#dataset_1 = pq.ParquetDataset('dataset-1/w32processes')\n",
    "#dataset_2 = pq.ParquetDataset('dataset-2/w32processes')\n",
    "#dataset_3 = pq.ParquetDataset('dataset-3/w32processes')\n",
    "dataset_4 = pq.ParquetDataset('../dataset-4/w32processes')\n",
    "\n",
    "#table_1 = dataset_1.read()\n",
    "#table_2 = dataset_2.read()\n",
    "#table_3 = dataset_3.read()\n",
    "table_4 = dataset_4.read()\n",
    "\n",
    "#df_1 = table_1.to_pandas()\n",
    "#df_2 = table_2.to_pandas()\n",
    "#df_3 = table_3.to_pandas()\n",
    "df = table_4.to_pandas()\n",
    "\n",
    "#df_1.to_csv('test_1.csv')\n",
    "#df_2.to_csv('test_2.csv')\n",
    "#df_3.to_csv('test_3.csv')\n",
    "#df.to_csv('test_4.csv')\n",
    "\n",
    "pd.set_option('display.max_colwidth', None)\n",
    "\n",
    "print('Student ID: 82R4k2JOBFYpjzrPT6xpDrASy2C3')"
   ]
  },
  {
   "cell_type": "code",
   "execution_count": 6,
   "id": "95590bc0-36c8-4e54-a6a4-9f95b0615369",
   "metadata": {},
   "outputs": [],
   "source": [
    "ACCESSIBILITY_TARGETS = [\n",
    "    \"sethc.exe\", \"utilman.exe\", \"osk.exe\", \"magnify.exe\",\n",
    "    \"narrator.exe\", \"atbroker.exe\", \"displayswitch.exe\"\n",
    "]\n",
    "\n",
    "EXTRA_LOGON_RELATED = [\n",
    "    \"easeofaccessdialog.exe\", \"tabtip.exe\", \"ctfmon.exe\"\n",
    "]\n",
    "\n",
    "SHELLS = [\"cmd.exe\", \"powershell.exe\", \"pwsh.exe\", \"wscript.exe\", \"cscript.exe\", \"mshta.exe\"]\n",
    "\n",
    "SERVICE_LIKE = [\n",
    "    \"services.exe\", \"svchost.exe\", \"lsass.exe\", \"wininit.exe\",\n",
    "    \"taskhostw.exe\", \"spoolsv.exe\", \"smss.exe\", \"csrss.exe\",\n",
    "    \"dllhost.exe\", \"dcomlaunch.exe\", \"winlogon.exe\", \"wmiprvse.exe\"\n",
    "]\n"
   ]
  },
  {
   "cell_type": "code",
   "execution_count": 7,
   "id": "5996d39f-82d1-4027-8a16-0ac04e1bae95",
   "metadata": {},
   "outputs": [],
   "source": [
    "df_elevated = df[df['username'].str.contains('NT AUTHORITY')]"
   ]
  },
  {
   "cell_type": "code",
   "execution_count": 8,
   "id": "8ae2171b-b5ee-49bb-8b96-d961e7da9d19",
   "metadata": {},
   "outputs": [
    {
     "data": {
      "text/html": [
       "<div>\n",
       "<style scoped>\n",
       "    .dataframe tbody tr th:only-of-type {\n",
       "        vertical-align: middle;\n",
       "    }\n",
       "\n",
       "    .dataframe tbody tr th {\n",
       "        vertical-align: top;\n",
       "    }\n",
       "\n",
       "    .dataframe thead th {\n",
       "        text-align: right;\n",
       "    }\n",
       "</style>\n",
       "<table border=\"1\" class=\"dataframe\">\n",
       "  <thead>\n",
       "    <tr style=\"text-align: right;\">\n",
       "      <th></th>\n",
       "      <th>hostname</th>\n",
       "      <th>name</th>\n",
       "      <th>arguments</th>\n",
       "      <th>username</th>\n",
       "      <th>path</th>\n",
       "      <th>pid</th>\n",
       "    </tr>\n",
       "  </thead>\n",
       "  <tbody>\n",
       "  </tbody>\n",
       "</table>\n",
       "</div>"
      ],
      "text/plain": [
       "Empty DataFrame\n",
       "Columns: [hostname, name, arguments, username, path, pid]\n",
       "Index: []"
      ]
     },
     "metadata": {},
     "output_type": "display_data"
    },
    {
     "name": "stdout",
     "output_type": "stream",
     "text": [
      "There are no vulnerability tool executions?\n"
     ]
    }
   ],
   "source": [
    "ACCESSIBILITY_TARGETS = [\n",
    "    \"sethc.exe\", \"utilman.exe\", \"osk.exe\", \"magnify.exe\",\n",
    "    \"narrator.exe\", \"atbroker.exe\", \"displayswitch.exe\"\n",
    "]\n",
    "\n",
    "def accessibility_tools(df):\n",
    "    mask = df['name'].str.lower().apply(\n",
    "        lambda x: any(t in x for t in ACCESSIBILITY_TARGETS)\n",
    "    )\n",
    "    return df[mask]\n",
    "    \n",
    "df1 = accessibility_tools(df)\n",
    "\n",
    "display(df1)\n",
    "\n",
    "print(\"There are no vulnerability tool executions?\")"
   ]
  },
  {
   "cell_type": "code",
   "execution_count": 17,
   "id": "1d8b209d-600c-4c26-9ae0-3bde472cedb9",
   "metadata": {},
   "outputs": [
    {
     "data": {
      "text/html": [
       "<div>\n",
       "<style scoped>\n",
       "    .dataframe tbody tr th:only-of-type {\n",
       "        vertical-align: middle;\n",
       "    }\n",
       "\n",
       "    .dataframe tbody tr th {\n",
       "        vertical-align: top;\n",
       "    }\n",
       "\n",
       "    .dataframe thead th {\n",
       "        text-align: right;\n",
       "    }\n",
       "</style>\n",
       "<table border=\"1\" class=\"dataframe\">\n",
       "  <thead>\n",
       "    <tr style=\"text-align: right;\">\n",
       "      <th></th>\n",
       "      <th>hostname</th>\n",
       "      <th>name</th>\n",
       "      <th>arguments</th>\n",
       "      <th>username</th>\n",
       "      <th>path</th>\n",
       "      <th>pid</th>\n",
       "    </tr>\n",
       "  </thead>\n",
       "  <tbody>\n",
       "  </tbody>\n",
       "</table>\n",
       "</div>"
      ],
      "text/plain": [
       "Empty DataFrame\n",
       "Columns: [hostname, name, arguments, username, path, pid]\n",
       "Index: []"
      ]
     },
     "metadata": {},
     "output_type": "display_data"
    }
   ],
   "source": [
    "def shells_referencing_accessibility(df):\n",
    "    mask_shells = df['name'].str.lower().isin(SHELLS)\n",
    "    mask_args = df['arguments'].str.lower().str.contains('|'.join(ACCESSIBILITY_TARGETS), na=False)\n",
    "    return df[mask_shells & mask_args]\n",
    "\n",
    "df2 = shells_referencing_accessibility(df)\n",
    "\n",
    "display(df2)"
   ]
  },
  {
   "cell_type": "code",
   "execution_count": 19,
   "id": "4c729c75-4793-411c-bb9e-398a661f172d",
   "metadata": {},
   "outputs": [
    {
     "data": {
      "text/html": [
       "<div>\n",
       "<style scoped>\n",
       "    .dataframe tbody tr th:only-of-type {\n",
       "        vertical-align: middle;\n",
       "    }\n",
       "\n",
       "    .dataframe tbody tr th {\n",
       "        vertical-align: top;\n",
       "    }\n",
       "\n",
       "    .dataframe thead th {\n",
       "        text-align: right;\n",
       "    }\n",
       "</style>\n",
       "<table border=\"1\" class=\"dataframe\">\n",
       "  <thead>\n",
       "    <tr style=\"text-align: right;\">\n",
       "      <th></th>\n",
       "      <th>hostname</th>\n",
       "      <th>name</th>\n",
       "      <th>arguments</th>\n",
       "      <th>username</th>\n",
       "      <th>path</th>\n",
       "      <th>pid</th>\n",
       "    </tr>\n",
       "  </thead>\n",
       "  <tbody>\n",
       "  </tbody>\n",
       "</table>\n",
       "</div>"
      ],
      "text/plain": [
       "Empty DataFrame\n",
       "Columns: [hostname, name, arguments, username, path, pid]\n",
       "Index: []"
      ]
     },
     "metadata": {},
     "output_type": "display_data"
    }
   ],
   "source": [
    "def access_spawning_shell(df):\n",
    "    suspicious_tokens = [\n",
    "        \" cmd\", \" powershell\", \" pwsh\", \" /c \",\n",
    "        \" -enc \", \" -encodedcommand \", \" -nop \", \" -w hidden \"\n",
    "    ]\n",
    "    mask_name = df['name'].str.lower().isin(ACCESSIBILITY_TARGETS + EXTRA_LOGON_RELATED)\n",
    "    mask_args = df['arguments'].str.lower().str.contains('|'.join([re.escape(x) for x in suspicious_tokens]), na=False)\n",
    "    return df[mask_name & mask_args]\n",
    "\n",
    "\n",
    "df3 = access_spawning_shell(df)\n",
    "\n",
    "display(df3)"
   ]
  },
  {
   "cell_type": "code",
   "execution_count": 22,
   "id": "12bda56c-c548-4a68-a7b6-1888d6d653b9",
   "metadata": {},
   "outputs": [
    {
     "data": {
      "text/html": [
       "<div>\n",
       "<style scoped>\n",
       "    .dataframe tbody tr th:only-of-type {\n",
       "        vertical-align: middle;\n",
       "    }\n",
       "\n",
       "    .dataframe tbody tr th {\n",
       "        vertical-align: top;\n",
       "    }\n",
       "\n",
       "    .dataframe thead th {\n",
       "        text-align: right;\n",
       "    }\n",
       "</style>\n",
       "<table border=\"1\" class=\"dataframe\">\n",
       "  <thead>\n",
       "    <tr style=\"text-align: right;\">\n",
       "      <th></th>\n",
       "      <th>hostname</th>\n",
       "      <th>name</th>\n",
       "      <th>arguments</th>\n",
       "      <th>username</th>\n",
       "      <th>path</th>\n",
       "      <th>pid</th>\n",
       "    </tr>\n",
       "  </thead>\n",
       "  <tbody>\n",
       "  </tbody>\n",
       "</table>\n",
       "</div>"
      ],
      "text/plain": [
       "Empty DataFrame\n",
       "Columns: [hostname, name, arguments, username, path, pid]\n",
       "Index: []"
      ]
     },
     "metadata": {},
     "output_type": "display_data"
    }
   ],
   "source": [
    "def rare_elevated_processes(df, threshold=5):\n",
    "    poi_mask = (\n",
    "        df['name'].str.lower().isin(ACCESSIBILITY_TARGETS + EXTRA_LOGON_RELATED + SHELLS) |\n",
    "        df['arguments'].str.lower().str.contains('|'.join(ACCESSIBILITY_TARGETS), na=False)\n",
    "    )\n",
    "    poi = df[poi_mask]\n",
    "    host_counts = poi.groupby('name')['hostname'].nunique()\n",
    "    rare_names = host_counts[host_counts < threshold].index\n",
    "    return poi[poi['name'].isin(rare_names)]\n",
    "\n",
    "df4 = rare_elevated_processes(df_elevated)\n",
    "\n",
    "display(df4)"
   ]
  },
  {
   "cell_type": "code",
   "execution_count": 25,
   "id": "94e05a65-2db9-4910-aae6-6b34fde044d0",
   "metadata": {},
   "outputs": [
    {
     "name": "stderr",
     "output_type": "stream",
     "text": [
      "/tmp/ipykernel_62064/1124181793.py:4: UserWarning: This pattern is interpreted as a regular expression, and has match groups. To actually get the groups, use str.extract.\n",
      "  | df['path'].str.lower().str.contains(r'\\\\(system32|syswow64)\\\\.*\\\\.exe', na=False, regex=True)\n",
      "/tmp/ipykernel_62064/1124181793.py:5: UserWarning: This pattern is interpreted as a regular expression, and has match groups. To actually get the groups, use str.extract.\n",
      "  | df['name'].str.lower().str.contains(r'(svc|service|host|win|sys)')\n"
     ]
    },
    {
     "data": {
      "text/html": [
       "<div>\n",
       "<style scoped>\n",
       "    .dataframe tbody tr th:only-of-type {\n",
       "        vertical-align: middle;\n",
       "    }\n",
       "\n",
       "    .dataframe tbody tr th {\n",
       "        vertical-align: top;\n",
       "    }\n",
       "\n",
       "    .dataframe thead th {\n",
       "        text-align: right;\n",
       "    }\n",
       "</style>\n",
       "<table border=\"1\" class=\"dataframe\">\n",
       "  <thead>\n",
       "    <tr style=\"text-align: right;\">\n",
       "      <th></th>\n",
       "      <th>hostname</th>\n",
       "      <th>name</th>\n",
       "      <th>arguments</th>\n",
       "      <th>username</th>\n",
       "      <th>path</th>\n",
       "      <th>pid</th>\n",
       "    </tr>\n",
       "  </thead>\n",
       "  <tbody>\n",
       "  </tbody>\n",
       "</table>\n",
       "</div>"
      ],
      "text/plain": [
       "Empty DataFrame\n",
       "Columns: [hostname, name, arguments, username, path, pid]\n",
       "Index: []"
      ]
     },
     "metadata": {},
     "output_type": "display_data"
    }
   ],
   "source": [
    "def rare_services_elevated(df, threshold=5):\n",
    "    mask_service_like = (\n",
    "        df['name'].str.lower().isin(SERVICE_LIKE)\n",
    "        | df['path'].str.lower().str.contains(r'\\\\(system32|syswow64)\\\\.*\\\\.exe', na=False, regex=True)\n",
    "        | df['name'].str.lower().str.contains(r'(svc|service|host|win|sys)')\n",
    "    )\n",
    "    svc = df[mask_service_like]\n",
    "    host_counts = svc.groupby('name')['hostname'].nunique()\n",
    "    rare = host_counts[host_counts < threshold].index\n",
    "    return svc[svc['name'].isin(rare)]\n",
    "\n",
    "df5 = rare_services_elevated(df_elevated)\n",
    "\n",
    "display(df5)"
   ]
  },
  {
   "cell_type": "code",
   "execution_count": null,
   "id": "06b7abb7-bd75-4745-afe2-335a523e9abf",
   "metadata": {},
   "outputs": [],
   "source": []
  }
 ],
 "metadata": {
  "kernelspec": {
   "display_name": "Python 3 (ipykernel)",
   "language": "python",
   "name": "python3"
  },
  "language_info": {
   "codemirror_mode": {
    "name": "ipython",
    "version": 3
   },
   "file_extension": ".py",
   "mimetype": "text/x-python",
   "name": "python",
   "nbconvert_exporter": "python",
   "pygments_lexer": "ipython3",
   "version": "3.12.3"
  }
 },
 "nbformat": 4,
 "nbformat_minor": 5
}
